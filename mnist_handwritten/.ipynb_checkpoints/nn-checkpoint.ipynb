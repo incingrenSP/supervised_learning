{
 "cells": [
  {
   "cell_type": "code",
   "execution_count": 144,
   "id": "bbcbf9e3-5ca9-4874-a305-65f37183360e",
   "metadata": {},
   "outputs": [],
   "source": [
    "import pandas as pd\n",
    "import numpy as np\n",
    "import matplotlib.pyplot as plt"
   ]
  },
  {
   "cell_type": "code",
   "execution_count": 2,
   "id": "9954c23a-df7b-4067-8bf2-eb5d25d984d1",
   "metadata": {},
   "outputs": [
    {
     "data": {
      "text/html": [
       "<div>\n",
       "<style scoped>\n",
       "    .dataframe tbody tr th:only-of-type {\n",
       "        vertical-align: middle;\n",
       "    }\n",
       "\n",
       "    .dataframe tbody tr th {\n",
       "        vertical-align: top;\n",
       "    }\n",
       "\n",
       "    .dataframe thead th {\n",
       "        text-align: right;\n",
       "    }\n",
       "</style>\n",
       "<table border=\"1\" class=\"dataframe\">\n",
       "  <thead>\n",
       "    <tr style=\"text-align: right;\">\n",
       "      <th></th>\n",
       "      <th>label</th>\n",
       "      <th>1x1</th>\n",
       "      <th>1x2</th>\n",
       "      <th>1x3</th>\n",
       "      <th>1x4</th>\n",
       "      <th>1x5</th>\n",
       "      <th>1x6</th>\n",
       "      <th>1x7</th>\n",
       "      <th>1x8</th>\n",
       "      <th>1x9</th>\n",
       "      <th>...</th>\n",
       "      <th>28x19</th>\n",
       "      <th>28x20</th>\n",
       "      <th>28x21</th>\n",
       "      <th>28x22</th>\n",
       "      <th>28x23</th>\n",
       "      <th>28x24</th>\n",
       "      <th>28x25</th>\n",
       "      <th>28x26</th>\n",
       "      <th>28x27</th>\n",
       "      <th>28x28</th>\n",
       "    </tr>\n",
       "  </thead>\n",
       "  <tbody>\n",
       "    <tr>\n",
       "      <th>0</th>\n",
       "      <td>5</td>\n",
       "      <td>0</td>\n",
       "      <td>0</td>\n",
       "      <td>0</td>\n",
       "      <td>0</td>\n",
       "      <td>0</td>\n",
       "      <td>0</td>\n",
       "      <td>0</td>\n",
       "      <td>0</td>\n",
       "      <td>0</td>\n",
       "      <td>...</td>\n",
       "      <td>0</td>\n",
       "      <td>0</td>\n",
       "      <td>0</td>\n",
       "      <td>0</td>\n",
       "      <td>0</td>\n",
       "      <td>0</td>\n",
       "      <td>0</td>\n",
       "      <td>0</td>\n",
       "      <td>0</td>\n",
       "      <td>0</td>\n",
       "    </tr>\n",
       "    <tr>\n",
       "      <th>1</th>\n",
       "      <td>0</td>\n",
       "      <td>0</td>\n",
       "      <td>0</td>\n",
       "      <td>0</td>\n",
       "      <td>0</td>\n",
       "      <td>0</td>\n",
       "      <td>0</td>\n",
       "      <td>0</td>\n",
       "      <td>0</td>\n",
       "      <td>0</td>\n",
       "      <td>...</td>\n",
       "      <td>0</td>\n",
       "      <td>0</td>\n",
       "      <td>0</td>\n",
       "      <td>0</td>\n",
       "      <td>0</td>\n",
       "      <td>0</td>\n",
       "      <td>0</td>\n",
       "      <td>0</td>\n",
       "      <td>0</td>\n",
       "      <td>0</td>\n",
       "    </tr>\n",
       "    <tr>\n",
       "      <th>2</th>\n",
       "      <td>4</td>\n",
       "      <td>0</td>\n",
       "      <td>0</td>\n",
       "      <td>0</td>\n",
       "      <td>0</td>\n",
       "      <td>0</td>\n",
       "      <td>0</td>\n",
       "      <td>0</td>\n",
       "      <td>0</td>\n",
       "      <td>0</td>\n",
       "      <td>...</td>\n",
       "      <td>0</td>\n",
       "      <td>0</td>\n",
       "      <td>0</td>\n",
       "      <td>0</td>\n",
       "      <td>0</td>\n",
       "      <td>0</td>\n",
       "      <td>0</td>\n",
       "      <td>0</td>\n",
       "      <td>0</td>\n",
       "      <td>0</td>\n",
       "    </tr>\n",
       "    <tr>\n",
       "      <th>3</th>\n",
       "      <td>1</td>\n",
       "      <td>0</td>\n",
       "      <td>0</td>\n",
       "      <td>0</td>\n",
       "      <td>0</td>\n",
       "      <td>0</td>\n",
       "      <td>0</td>\n",
       "      <td>0</td>\n",
       "      <td>0</td>\n",
       "      <td>0</td>\n",
       "      <td>...</td>\n",
       "      <td>0</td>\n",
       "      <td>0</td>\n",
       "      <td>0</td>\n",
       "      <td>0</td>\n",
       "      <td>0</td>\n",
       "      <td>0</td>\n",
       "      <td>0</td>\n",
       "      <td>0</td>\n",
       "      <td>0</td>\n",
       "      <td>0</td>\n",
       "    </tr>\n",
       "    <tr>\n",
       "      <th>4</th>\n",
       "      <td>9</td>\n",
       "      <td>0</td>\n",
       "      <td>0</td>\n",
       "      <td>0</td>\n",
       "      <td>0</td>\n",
       "      <td>0</td>\n",
       "      <td>0</td>\n",
       "      <td>0</td>\n",
       "      <td>0</td>\n",
       "      <td>0</td>\n",
       "      <td>...</td>\n",
       "      <td>0</td>\n",
       "      <td>0</td>\n",
       "      <td>0</td>\n",
       "      <td>0</td>\n",
       "      <td>0</td>\n",
       "      <td>0</td>\n",
       "      <td>0</td>\n",
       "      <td>0</td>\n",
       "      <td>0</td>\n",
       "      <td>0</td>\n",
       "    </tr>\n",
       "  </tbody>\n",
       "</table>\n",
       "<p>5 rows × 785 columns</p>\n",
       "</div>"
      ],
      "text/plain": [
       "   label  1x1  1x2  1x3  1x4  1x5  1x6  1x7  1x8  1x9  ...  28x19  28x20  \\\n",
       "0      5    0    0    0    0    0    0    0    0    0  ...      0      0   \n",
       "1      0    0    0    0    0    0    0    0    0    0  ...      0      0   \n",
       "2      4    0    0    0    0    0    0    0    0    0  ...      0      0   \n",
       "3      1    0    0    0    0    0    0    0    0    0  ...      0      0   \n",
       "4      9    0    0    0    0    0    0    0    0    0  ...      0      0   \n",
       "\n",
       "   28x21  28x22  28x23  28x24  28x25  28x26  28x27  28x28  \n",
       "0      0      0      0      0      0      0      0      0  \n",
       "1      0      0      0      0      0      0      0      0  \n",
       "2      0      0      0      0      0      0      0      0  \n",
       "3      0      0      0      0      0      0      0      0  \n",
       "4      0      0      0      0      0      0      0      0  \n",
       "\n",
       "[5 rows x 785 columns]"
      ]
     },
     "execution_count": 2,
     "metadata": {},
     "output_type": "execute_result"
    }
   ],
   "source": [
    "df = pd.read_csv('mnist_train.csv')\n",
    "df_test = pd.read_csv('mnist_test.csv')\n",
    "\n",
    "df.head()"
   ]
  },
  {
   "cell_type": "code",
   "execution_count": 3,
   "id": "460164a3-7824-40c5-8ede-096bd7fe3026",
   "metadata": {},
   "outputs": [
    {
     "data": {
      "text/plain": [
       "(28, 28)"
      ]
     },
     "execution_count": 3,
     "metadata": {},
     "output_type": "execute_result"
    }
   ],
   "source": [
    "X_train = df.drop(labels=['label'], axis=1)\n",
    "y_train = df['label']\n",
    "X_test = df_test.drop(labels=['label'], axis=1)\n",
    "y_test = df_test['label']\n",
    "\n",
    "img = X_train.iloc[0].values.reshape(28,28)\n",
    "img.shape"
   ]
  },
  {
   "cell_type": "code",
   "execution_count": 4,
   "id": "bb9c1e64-ccfb-403e-a8eb-dbce9f80a7ec",
   "metadata": {},
   "outputs": [
    {
     "data": {
      "image/png": "[encoded data removed]",
      "text/plain": [
       "<Figure size 640x480 with 1 Axes>"
      ]
     },
     "metadata": {},
     "output_type": "display_data"
    }
   ],
   "source": [
    "plt.imshow(img, cmap='gray')\n",
    "plt.axis(\"off\")\n",
    "plt.show()"
   ]
  },
  {
   "cell_type": "code",
   "execution_count": 5,
   "id": "55bfac5a-91d9-4fbd-b50d-3fbe78ee495f",
   "metadata": {},
   "outputs": [
    {
     "data": {
      "text/plain": [
       "((60000, 784), (10000, 784))"
      ]
     },
     "execution_count": 5,
     "metadata": {},
     "output_type": "execute_result"
    }
   ],
   "source": [
    "X_train = X_train.astype(np.float64) / 255\n",
    "# y_train = y_train.astype(np.float64) / 255\n",
    "\n",
    "X_test = X_test.astype(np.float64) / 255\n",
    "# y_test = y_test.astype(np.float64) / 255\n",
    "\n",
    "X_train.values.reshape(-1,28,28,1)\n",
    "X_test.values.reshape(-1,28,28,1)\n",
    "X_train.shape, X_test.shape"
   ]
  },
  {
   "cell_type": "code",
   "execution_count": 6,
   "id": "e84ae3ec-1703-4987-81a0-e7357a8ca511",
   "metadata": {},
   "outputs": [],
   "source": [
    "X_train = X_train.to_numpy().transpose()\n",
    "y_train = y_train.to_numpy().transpose()"
   ]
  },
  {
   "cell_type": "code",
   "execution_count": 7,
   "id": "2f0a9583-2d62-4061-abc9-6d66952fb38f",
   "metadata": {},
   "outputs": [],
   "source": [
    "def relu(z):\n",
    "    return np.maximum(z, [0])\n",
    "\n",
    "def softmax(z):\n",
    "    exp_z = np.exp(z - np.max(z, axis=0, keepdims=True))\n",
    "    return exp_z / np.sum(exp_z, axis=0, keepdims=True)"
   ]
  },
  {
   "cell_type": "code",
   "execution_count": 64,
   "id": "7870a0d1-159a-42a7-8038-be48f1a2c4e2",
   "metadata": {},
   "outputs": [],
   "source": [
    "def hot_encoded_true_label(labels):\n",
    "    res = np.zeros([labels.size, 10])\n",
    "    res[np.arange(labels.size), labels] = 1\n",
    "    return res\n",
    "\n",
    "def relu_deriv(z):\n",
    "    return z > 0\n",
    "\n",
    "def cross_entropy_loss(y, a2):\n",
    "    y = hot_encoded_true_label(y)\n",
    "    loss = a2 - y.transpose()\n",
    "    return loss"
   ]
  },
  {
   "cell_type": "code",
   "execution_count": 9,
   "id": "7d63469f-7b75-4d74-b5a3-9967de473557",
   "metadata": {},
   "outputs": [],
   "source": [
    "epochs = 1000\n",
    "samples = X_train.shape[0]\n",
    "n = 0.01\n",
    "neurons = np.array([16, 10])"
   ]
  },
  {
   "cell_type": "code",
   "execution_count": 143,
   "id": "6b957604-ce1a-45c0-9df8-f17b25b61ed2",
   "metadata": {},
   "outputs": [],
   "source": [
    "# WITHOUT VECTORIZATION\n",
    "\n",
    "def initialize():\n",
    "    # w1: (16, 768), b1: (16, 1)\n",
    "    w1 = np.zeros([neurons[0], samples])\n",
    "    b1 = np.zeros([neurons[0], 1])\n",
    "\n",
    "    # w2: (10, 16), b2: (10, 1)\n",
    "    w2 = np.zeros([neurons[1], neurons[0]])\n",
    "    b2 = np.zeros([neurons[1], 1])\n",
    "\n",
    "    return w1, w2, b1, b2\n",
    "\n",
    "def forward_prop(X, w, b, func):\n",
    "    z = np.dot(w, X) + b\n",
    "    a = func(z)\n",
    "    return z, a\n",
    "\n",
    "def back_prop(X, y, z1, z2, a1, a2, w1, w2, b1, b2):\n",
    "    dJ_da2 = 2 * cross_entropy_loss(y, a2)                                       # dJ_da2: (10, 60000)\n",
    "    da2_dz2 = cross_entropy_loss(y, z2)                                          # da2_dz2: (10, 60000)\n",
    "    dz2_dw2 = a1                                                                 # dz2_dw2: (16, 60000)\n",
    "    dz2_da1 = w2                                                                 # dz2_da1: (10, 16)\n",
    "    dJ_dw2 = (1/samples) * np.dot(dz2_dw2, (da2_dz2 * dJ_da2).transpose()).T     # dJ_dw2: (10, 16)\n",
    "    dJ_db2 = (1/samples) * (da2_dz2 * dJ_da2)                                    # dJ_db2: (10, 60000)\n",
    "    dJ_da1 = np.dot(w2.transpose(), dJ_db2)                                      # dJ_da1: (16, 60000)\n",
    "    da1_dz1 = relu_deriv(z1)                                                     # da1_dz1: (16, 60000)\n",
    "    dz1_dw1 = X                                                                  # dz1_dw1: (784, 60000)\n",
    "    dJ_dw1 = dz1_dw1.dot((da1_dz1 * dJ_da1).transpose()).transpose()             # dJ_dw1: (16, 784)\n",
    "    dJ_db1 = (1/samples) * (da1_dz1 * dJ_da1).sum(axis=1)                        # dJ_db1: (16, 1)\n",
    "    dJ_db2 = dJ_db2.sum(axis=1)                                                  # dJ_db2 : (10, 1)\n",
    "\n",
    "    return dJ_dw1, dJ_db1.reshape(16, 1), dJ_dw2, dJ_db2.reshape(10,1)\n",
    "\n",
    "def gradient_descent(w1, w2, b1, b2, dw1, dw2, db1, db2):\n",
    "    w1 = w1 - n * dw1\n",
    "    w2 = w2 - n * dw2\n",
    "    b1 = b1 - n * db1\n",
    "    b2 = b2 - n * db2\n",
    "    \n",
    "    return w1, b1, w2, b2"
   ]
  },
  {
   "cell_type": "code",
   "execution_count": 11,
   "id": "176a827a-8c05-46ab-987b-82d13bdbbe27",
   "metadata": {},
   "outputs": [],
   "source": [
    "def make_predictions():\n",
    "    pass\n",
    "\n",
    "def compute_accuracy():\n",
    "    pass"
   ]
  },
  {
   "cell_type": "code",
   "execution_count": 140,
   "id": "b4c1fc00-f8df-4037-aa31-439f4aaffee3",
   "metadata": {},
   "outputs": [],
   "source": [
    "def run_network(X, y):\n",
    "    w1, w2, b1, b2 = initialize()\n",
    "\n",
    "    for i in range(epochs):\n",
    "        # z1: (16, 60000), a1: (16, 60000), z2: (10, 60000), a2: (10, 60000)\n",
    "        z1, a1 = forward_prop(X, w1, b1, relu)\n",
    "        z2, a2 = forward_prop(a1, w2, b2, softmax)\n",
    "    \n",
    "        dw1, db1, dw2, db2 = back_prop(X, y, z1, z2, a1, a2, w1, w2, b1, b2)\n",
    "        w1, b1, w2, b2 = gradient_descent(w1, w2, b1, b2, dw1, dw2, db1, db2)\n",
    "    \n",
    "    print(f'w1:{w1.shape}, b1:{b1.shape}, w2:{w2.shape}, b2:{b2.shape}')\n",
    "\n",
    "    return w1, w2, b1, b2"
   ]
  },
  {
   "cell_type": "code",
   "execution_count": 141,
   "id": "6743e6af-aee7-43f9-b6b3-a68a6174d430",
   "metadata": {},
   "outputs": [
    {
     "name": "stdout",
     "output_type": "stream",
     "text": [
      "w1:(16, 784), b1:(16, 1), w2:(10, 16), b2:(10, 1)\n"
     ]
    }
   ],
   "source": [
    "w1, w2, b1, b2 = run_network(X_train, y_train)"
   ]
  },
  {
   "cell_type": "code",
   "execution_count": 142,
   "id": "b9a40ea6-cd8d-4a9b-970c-994d236842fe",
   "metadata": {},
   "outputs": [
    {
     "data": {
      "text/plain": [
       "array([[0., 0., 0., ..., 0., 0., 0.],\n",
       "       [0., 0., 0., ..., 0., 0., 0.],\n",
       "       [0., 0., 0., ..., 0., 0., 0.],\n",
       "       ...,\n",
       "       [0., 0., 0., ..., 0., 0., 0.],\n",
       "       [0., 0., 0., ..., 0., 0., 0.],\n",
       "       [0., 0., 0., ..., 0., 0., 0.]])"
      ]
     },
     "execution_count": 142,
     "metadata": {},
     "output_type": "execute_result"
    }
   ],
   "source": [
    "w1"
   ]
  },
  {
   "cell_type": "code",
   "execution_count": null,
   "id": "7ba5c92f-3b50-4f93-aeee-9173879b2c5f",
   "metadata": {},
   "outputs": [],
   "source": []
  }
 ],
 "metadata": {
  "kernelspec": {
   "display_name": "ml",
   "language": "python",
   "name": "ml"
  },
  "language_info": {
   "codemirror_mode": {
    "name": "ipython",
    "version": 3
   },
   "file_extension": ".py",
   "mimetype": "text/x-python",
   "name": "python",
   "nbconvert_exporter": "python",
   "pygments_lexer": "ipython3",
   "version": "3.12.3"
  }
 },
 "nbformat": 4,
 "nbformat_minor": 5
}
