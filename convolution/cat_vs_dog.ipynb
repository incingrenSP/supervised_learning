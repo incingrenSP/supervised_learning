{
 "cells": [
  {
   "cell_type": "code",
   "execution_count": 3,
   "id": "48d20bed-a1c1-401f-a55f-e26f25a3c837",
   "metadata": {},
   "outputs": [],
   "source": [
    "import torch\n",
    "import torch.nn as nn\n",
    "import torchvision\n",
    "from torchvision import transforms, datasets\n",
    "from torch.utils.data import DataLoader\n",
    "import torch.optim as optim\n",
    "import matplotlib.pyplot as plt"
   ]
  },
  {
   "cell_type": "code",
   "execution_count": 52,
   "id": "14d0ed8e-05e3-4ae0-ac73-9040dca35a3a",
   "metadata": {},
   "outputs": [],
   "source": [
    "import os\n",
    "import numpy as np\n",
    "import cv2\n",
    "from PIL import Image\n",
    "from tqdm import tqdm\n",
    "\n",
    "REBUILD_DATA = False"
   ]
  },
  {
   "cell_type": "code",
   "execution_count": 50,
   "id": "bc9989be-484f-44a0-b464-72cb1720687c",
   "metadata": {},
   "outputs": [],
   "source": [
    "class DogvCat:\n",
    "    def __init__(self):\n",
    "        self.IMG_SIZE = 50\n",
    "        self.CATS = os.path.join('data', 'training_set', 'cats')\n",
    "        self.DOGS = os.path.join('data', 'training_set', 'dogs')\n",
    "        self.LABELS = {self.CATS: 0, self.DOGS: 1}\n",
    "    \n",
    "        self.training_data = []\n",
    "        self.cat_count = 0\n",
    "        self.dog_count = 0\n",
    "\n",
    "    def make_training_data(self):\n",
    "        for label in self.LABELS:\n",
    "            print(label)\n",
    "            # for _, _, img_files in os.walk(label):\n",
    "            #     for file in img_files:\n",
    "            for img_files in tqdm(os.listdir(label)):\n",
    "                path = os.path.join(label, img_files)\n",
    "                # img = cv2.imread(path, cv2.IMREAD_GRAYSCALE)\n",
    "                # img = cv2.resize(img, (self.IMG_SIZE, self.IMG_SIZE))\n",
    "                img = Image.open(path)\n",
    "                transform = transforms.Compose([\n",
    "                    transforms.Grayscale(),\n",
    "                    transforms.Resize((self.IMG_SIZE, self.IMG_SIZE)),\n",
    "                ])\n",
    "                img = transform(img)\n",
    "                self.training_data.append([np.array(img), np.eye(2)[self.LABELS[label]]])\n",
    "\n",
    "                if label == self.CATS:\n",
    "                    self.cat_count += 1\n",
    "                elif label == self.DOGS:\n",
    "                    self.dog_count += 1\n",
    "\n",
    "    def save_training_data(self):\n",
    "        # np.random.shuffle(self.training_data)\n",
    "        self.training_data = np.array(self.training_data, dtype=object)\n",
    "        np.save('train.npy', self.training_data)\n",
    "        print(f'Cats: {self.cat_count}')\n",
    "        print(f'Dogs: {self.dog_count}')\n",
    "        "
   ]
  },
  {
   "cell_type": "code",
   "execution_count": 51,
   "id": "1aa0b364-ae4e-48ac-91d1-c7a95e029a9b",
   "metadata": {},
   "outputs": [
    {
     "name": "stdout",
     "output_type": "stream",
     "text": [
      "data\\training_set\\cats\n"
     ]
    },
    {
     "name": "stderr",
     "output_type": "stream",
     "text": [
      "100%|█████████████████████████████████████████████████████████████████████████████| 4000/4000 [00:14<00:00, 280.12it/s]\n"
     ]
    },
    {
     "name": "stdout",
     "output_type": "stream",
     "text": [
      "data\\training_set\\dogs\n"
     ]
    },
    {
     "name": "stderr",
     "output_type": "stream",
     "text": [
      "100%|█████████████████████████████████████████████████████████████████████████████| 4005/4005 [00:13<00:00, 286.69it/s]\n"
     ]
    },
    {
     "name": "stdout",
     "output_type": "stream",
     "text": [
      "Cats: 4000\n",
      "Dogs: 4005\n"
     ]
    }
   ],
   "source": [
    "if REBUILD_DATA:\n",
    "    obj = DogvCat()\n",
    "    obj.make_training_data()\n",
    "    obj.save_training_data()"
   ]
  },
  {
   "cell_type": "code",
   "execution_count": 49,
   "id": "9a08bc4f-ffa6-4b8a-bc07-6aaeb78af38f",
   "metadata": {},
   "outputs": [],
   "source": [
    "train_data = np.load('data.npy', allow_pickle=True)"
   ]
  },
  {
   "cell_type": "code",
   "execution_count": null,
   "id": "cef033d3-a132-459a-9710-c9e4b01f3cfd",
   "metadata": {},
   "outputs": [],
   "source": []
  }
 ],
 "metadata": {
  "kernelspec": {
   "display_name": "ml",
   "language": "python",
   "name": "ml"
  },
  "language_info": {
   "codemirror_mode": {
    "name": "ipython",
    "version": 3
   },
   "file_extension": ".py",
   "mimetype": "text/x-python",
   "name": "python",
   "nbconvert_exporter": "python",
   "pygments_lexer": "ipython3",
   "version": "3.12.3"
  }
 },
 "nbformat": 4,
 "nbformat_minor": 5
}
