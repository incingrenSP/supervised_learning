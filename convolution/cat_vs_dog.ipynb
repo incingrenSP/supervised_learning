{
 "cells": [
  {
   "cell_type": "code",
   "execution_count": 2,
   "id": "48d20bed-a1c1-401f-a55f-e26f25a3c837",
   "metadata": {},
   "outputs": [],
   "source": [
    "import torch\n",
    "import torch.nn as nn\n",
    "import torchvision\n",
    "from torchvision import transforms, datasets\n",
    "from torch.utils.data import DataLoader\n",
    "import torch.optim as optim\n",
    "import matplotlib.pyplot as plt"
   ]
  },
  {
   "cell_type": "code",
   "execution_count": 41,
   "id": "14d0ed8e-05e3-4ae0-ac73-9040dca35a3a",
   "metadata": {},
   "outputs": [],
   "source": [
    "import os\n",
    "import numpy as np\n",
    "import cv2\n",
    "from PIL import Image\n",
    "from tqdm import tqdm\n",
    "\n",
    "REBUILD_DATA = True"
   ]
  },
  {
   "cell_type": "code",
   "execution_count": 59,
   "id": "bc9989be-484f-44a0-b464-72cb1720687c",
   "metadata": {},
   "outputs": [],
   "source": [
    "class DogvCat:\n",
    "    def __init__(self):\n",
    "        self.IMG_SIZE = 50\n",
    "        self.CATS = os.path.join('data', 'training_set', 'cats')\n",
    "        self.DOGS = os.path.join('data', 'training_set', 'dogs')\n",
    "        self.LABELS = {self.CATS: 0, self.DOGS: 1}\n",
    "    \n",
    "        self.training_data = []\n",
    "        self.cat_count = 0\n",
    "        self.dog_count = 0\n",
    "\n",
    "    def make_training_data(self):\n",
    "        for label in self.LABELS:\n",
    "            print(label)\n",
    "            # for _, _, img_files in os.walk(label):\n",
    "            #     for file in img_files:\n",
    "            for img_files in tqdm(os.listdir(label)):\n",
    "                path = os.path.join(label, img_files)\n",
    "                # img = cv2.imread(path, cv2.IMREAD_GRAYSCALE)\n",
    "                # img = cv2.resize(img, (self.IMG_SIZE, self.IMG_SIZE))\n",
    "                img = Image.open(path)\n",
    "                transform = transforms.Compose([\n",
    "                    transforms.Grayscale(),\n",
    "                    transforms.Resize((self.IMG_SIZE, self.IMG_SIZE)),\n",
    "                ])\n",
    "                img = transform(img)\n",
    "                self.training_data.append([np.array(img), np.eye(2)[self.LABELS[label]]])\n",
    "\n",
    "                if label == self.CATS:\n",
    "                    self.cat_count += 1\n",
    "                elif label == self.DOGS:\n",
    "                    self.dog_count += 1\n",
    "                \n",
    "        # np.random.shuffle(self.training_data)\n",
    "        # np.save(\"training.npy\", self.training_data)\n",
    "        print(f'Cats: {self.cat_count}')\n",
    "        print(f'Dogs: {self.dog_count}')\n",
    "        print(self.training_data[0])\n",
    "        "
   ]
  },
  {
   "cell_type": "code",
   "execution_count": 60,
   "id": "1aa0b364-ae4e-48ac-91d1-c7a95e029a9b",
   "metadata": {},
   "outputs": [
    {
     "name": "stdout",
     "output_type": "stream",
     "text": [
      "data\\training_set\\cats\n"
     ]
    },
    {
     "name": "stderr",
     "output_type": "stream",
     "text": [
      "100%|█████████████████████████████████████████████████████████████████████████████| 4000/4000 [00:11<00:00, 345.46it/s]\n"
     ]
    },
    {
     "name": "stdout",
     "output_type": "stream",
     "text": [
      "data\\training_set\\dogs\n"
     ]
    },
    {
     "name": "stderr",
     "output_type": "stream",
     "text": [
      "100%|█████████████████████████████████████████████████████████████████████████████| 4005/4005 [00:11<00:00, 338.98it/s]"
     ]
    },
    {
     "name": "stdout",
     "output_type": "stream",
     "text": [
      "Cats: 4000\n",
      "Dogs: 4005\n",
      "[array([[ 41,  47,  42, ...,  93, 107, 179],\n",
      "       [ 40,  45,  46, ...,  91, 107, 180],\n",
      "       [ 39,  43,  44, ...,  86, 109, 181],\n",
      "       ...,\n",
      "       [ 23,  23,  22, ...,  55,  68,  70],\n",
      "       [ 21,  22,  21, ...,  58,  56,  64],\n",
      "       [ 22,  22,  22, ...,  58,  57,  43]], dtype=uint8), array([1., 0.])]\n"
     ]
    },
    {
     "name": "stderr",
     "output_type": "stream",
     "text": [
      "\n"
     ]
    }
   ],
   "source": [
    "if REBUILD_DATA:\n",
    "    obj = DogvCat()\n",
    "    obj.make_training_data()"
   ]
  },
  {
   "cell_type": "code",
   "execution_count": 40,
   "id": "6224d850-58de-43bc-9dd6-1b525035c598",
   "metadata": {},
   "outputs": [
    {
     "ename": "EOFError",
     "evalue": "No data left in file",
     "output_type": "error",
     "traceback": [
      "\u001b[1;31m---------------------------------------------------------------------------\u001b[0m",
      "\u001b[1;31mEOFError\u001b[0m                                  Traceback (most recent call last)",
      "Cell \u001b[1;32mIn[40], line 1\u001b[0m\n\u001b[1;32m----> 1\u001b[0m training_data \u001b[38;5;241m=\u001b[39m np\u001b[38;5;241m.\u001b[39mload(\u001b[38;5;124m\"\u001b[39m\u001b[38;5;124mtraining.npy\u001b[39m\u001b[38;5;124m\"\u001b[39m, allow_pickle\u001b[38;5;241m=\u001b[39m\u001b[38;5;28;01mTrue\u001b[39;00m)\n",
      "File \u001b[1;32m~\\miniconda3\\envs\\ml\\Lib\\site-packages\\numpy\\lib\\npyio.py:436\u001b[0m, in \u001b[0;36mload\u001b[1;34m(file, mmap_mode, allow_pickle, fix_imports, encoding, max_header_size)\u001b[0m\n\u001b[0;32m    434\u001b[0m magic \u001b[38;5;241m=\u001b[39m fid\u001b[38;5;241m.\u001b[39mread(N)\n\u001b[0;32m    435\u001b[0m \u001b[38;5;28;01mif\u001b[39;00m \u001b[38;5;129;01mnot\u001b[39;00m magic:\n\u001b[1;32m--> 436\u001b[0m     \u001b[38;5;28;01mraise\u001b[39;00m \u001b[38;5;167;01mEOFError\u001b[39;00m(\u001b[38;5;124m\"\u001b[39m\u001b[38;5;124mNo data left in file\u001b[39m\u001b[38;5;124m\"\u001b[39m)\n\u001b[0;32m    437\u001b[0m \u001b[38;5;66;03m# If the file size is less than N, we need to make sure not\u001b[39;00m\n\u001b[0;32m    438\u001b[0m \u001b[38;5;66;03m# to seek past the beginning of the file\u001b[39;00m\n\u001b[0;32m    439\u001b[0m fid\u001b[38;5;241m.\u001b[39mseek(\u001b[38;5;241m-\u001b[39m\u001b[38;5;28mmin\u001b[39m(N, \u001b[38;5;28mlen\u001b[39m(magic)), \u001b[38;5;241m1\u001b[39m)  \u001b[38;5;66;03m# back-up\u001b[39;00m\n",
      "\u001b[1;31mEOFError\u001b[0m: No data left in file"
     ]
    }
   ],
   "source": [
    "training_data = np.load(\"training.npy\", allow_pickle=True)"
   ]
  },
  {
   "cell_type": "code",
   "execution_count": 66,
   "id": "6c9fdcd2-f669-4e09-bf17-54b6c0e16ebf",
   "metadata": {},
   "outputs": [],
   "source": [
    "array = np.array([[[1,2,3], [0,0]], [[4,5,6], [0,1]]], dtype=object)"
   ]
  },
  {
   "cell_type": "code",
   "execution_count": 67,
   "id": "7a14a3c2-929f-4d80-bb9c-2d6735eb055c",
   "metadata": {},
   "outputs": [
    {
     "data": {
      "text/plain": [
       "array([[list([1, 2, 3]), list([0, 0])],\n",
       "       [list([4, 5, 6]), list([0, 1])]], dtype=object)"
      ]
     },
     "execution_count": 67,
     "metadata": {},
     "output_type": "execute_result"
    }
   ],
   "source": [
    "array"
   ]
  },
  {
   "cell_type": "code",
   "execution_count": null,
   "id": "9a08bc4f-ffa6-4b8a-bc07-6aaeb78af38f",
   "metadata": {},
   "outputs": [],
   "source": []
  }
 ],
 "metadata": {
  "kernelspec": {
   "display_name": "ml",
   "language": "python",
   "name": "ml"
  },
  "language_info": {
   "codemirror_mode": {
    "name": "ipython",
    "version": 3
   },
   "file_extension": ".py",
   "mimetype": "text/x-python",
   "name": "python",
   "nbconvert_exporter": "python",
   "pygments_lexer": "ipython3",
   "version": "3.12.3"
  }
 },
 "nbformat": 4,
 "nbformat_minor": 5
}
